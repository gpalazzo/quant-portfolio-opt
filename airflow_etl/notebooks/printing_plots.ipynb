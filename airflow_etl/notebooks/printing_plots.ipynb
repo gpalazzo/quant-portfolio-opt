{
 "cells": [
  {
   "cell_type": "code",
   "execution_count": 1,
   "id": "6b99323f",
   "metadata": {},
   "outputs": [],
   "source": [
    "import pandas as pd"
   ]
  },
  {
   "cell_type": "code",
   "execution_count": 14,
   "id": "c32f8749",
   "metadata": {},
   "outputs": [],
   "source": [
    "pd.set_option(\"display.max_columns\", 31)"
   ]
  },
  {
   "cell_type": "markdown",
   "id": "ccc59f20",
   "metadata": {},
   "source": [
    "## Index"
   ]
  },
  {
   "cell_type": "code",
   "execution_count": 6,
   "id": "eba0c1f9",
   "metadata": {},
   "outputs": [],
   "source": [
    "df_index_prices = pd.read_csv(\"../data/raw/mkt_index_price_brax11.csv\")"
   ]
  },
  {
   "cell_type": "code",
   "execution_count": 10,
   "id": "02248759",
   "metadata": {},
   "outputs": [
    {
     "data": {
      "text/html": [
       "<div>\n",
       "<style scoped>\n",
       "    .dataframe tbody tr th:only-of-type {\n",
       "        vertical-align: middle;\n",
       "    }\n",
       "\n",
       "    .dataframe tbody tr th {\n",
       "        vertical-align: top;\n",
       "    }\n",
       "\n",
       "    .dataframe thead th {\n",
       "        text-align: right;\n",
       "    }\n",
       "</style>\n",
       "<table border=\"1\" class=\"dataframe\">\n",
       "  <thead>\n",
       "    <tr style=\"text-align: right;\">\n",
       "      <th></th>\n",
       "      <th>Date</th>\n",
       "      <th>Adj Close</th>\n",
       "    </tr>\n",
       "  </thead>\n",
       "  <tbody>\n",
       "    <tr>\n",
       "      <th>2600</th>\n",
       "      <td>2021-10-05</td>\n",
       "      <td>92.839996</td>\n",
       "    </tr>\n",
       "    <tr>\n",
       "      <th>2601</th>\n",
       "      <td>2021-10-06</td>\n",
       "      <td>92.650002</td>\n",
       "    </tr>\n",
       "    <tr>\n",
       "      <th>2602</th>\n",
       "      <td>2021-10-07</td>\n",
       "      <td>92.699997</td>\n",
       "    </tr>\n",
       "    <tr>\n",
       "      <th>2603</th>\n",
       "      <td>2021-10-08</td>\n",
       "      <td>94.800003</td>\n",
       "    </tr>\n",
       "    <tr>\n",
       "      <th>2604</th>\n",
       "      <td>2021-10-11</td>\n",
       "      <td>94.669998</td>\n",
       "    </tr>\n",
       "  </tbody>\n",
       "</table>\n",
       "</div>"
      ],
      "text/plain": [
       "            Date  Adj Close\n",
       "2600  2021-10-05  92.839996\n",
       "2601  2021-10-06  92.650002\n",
       "2602  2021-10-07  92.699997\n",
       "2603  2021-10-08  94.800003\n",
       "2604  2021-10-11  94.669998"
      ]
     },
     "execution_count": 10,
     "metadata": {},
     "output_type": "execute_result"
    }
   ],
   "source": [
    "df_index_prices.tail()"
   ]
  },
  {
   "cell_type": "code",
   "execution_count": 23,
   "id": "de86fe4e",
   "metadata": {},
   "outputs": [
    {
     "data": {
      "text/plain": [
       "Date         0\n",
       "Adj Close    0\n",
       "dtype: int64"
      ]
     },
     "execution_count": 23,
     "metadata": {},
     "output_type": "execute_result"
    }
   ],
   "source": [
    "df_index_prices.isnull().sum()"
   ]
  },
  {
   "cell_type": "markdown",
   "id": "a011f55f",
   "metadata": {},
   "source": [
    "## Top 30 prices"
   ]
  },
  {
   "cell_type": "code",
   "execution_count": 7,
   "id": "d590ed5f",
   "metadata": {},
   "outputs": [],
   "source": [
    "df_top30_prices = pd.read_csv(\"../data/raw/top30_stocks_price_within_brax11.csv\")"
   ]
  },
  {
   "cell_type": "code",
   "execution_count": 15,
   "id": "f6f725a5",
   "metadata": {},
   "outputs": [
    {
     "data": {
      "text/html": [
       "<div>\n",
       "<style scoped>\n",
       "    .dataframe tbody tr th:only-of-type {\n",
       "        vertical-align: middle;\n",
       "    }\n",
       "\n",
       "    .dataframe tbody tr th {\n",
       "        vertical-align: top;\n",
       "    }\n",
       "\n",
       "    .dataframe thead th {\n",
       "        text-align: right;\n",
       "    }\n",
       "</style>\n",
       "<table border=\"1\" class=\"dataframe\">\n",
       "  <thead>\n",
       "    <tr style=\"text-align: right;\">\n",
       "      <th></th>\n",
       "      <th>Date</th>\n",
       "      <th>ALPA4.SA</th>\n",
       "      <th>AMAR3.SA</th>\n",
       "      <th>ASAI3.SA</th>\n",
       "      <th>BBDC3.SA</th>\n",
       "      <th>BRDT3.SA</th>\n",
       "      <th>BRKM5.SA</th>\n",
       "      <th>BRML3.SA</th>\n",
       "      <th>COGN3.SA</th>\n",
       "      <th>CRFB3.SA</th>\n",
       "      <th>CSMG3.SA</th>\n",
       "      <th>ECOR3.SA</th>\n",
       "      <th>EGIE3.SA</th>\n",
       "      <th>ELET6.SA</th>\n",
       "      <th>ENBR3.SA</th>\n",
       "      <th>ENGI11.SA</th>\n",
       "      <th>EQTL3.SA</th>\n",
       "      <th>EZTC3.SA</th>\n",
       "      <th>FLRY3.SA</th>\n",
       "      <th>GNDI3.SA</th>\n",
       "      <th>HAPV3.SA</th>\n",
       "      <th>JBSS3.SA</th>\n",
       "      <th>JHSF3.SA</th>\n",
       "      <th>LAME4.SA</th>\n",
       "      <th>LCAM3.SA</th>\n",
       "      <th>MGLU3.SA</th>\n",
       "      <th>RAIL3.SA</th>\n",
       "      <th>SAPR11.SA</th>\n",
       "      <th>SUZB3.SA</th>\n",
       "      <th>TAEE11.SA</th>\n",
       "      <th>TRPL4.SA</th>\n",
       "    </tr>\n",
       "  </thead>\n",
       "  <tbody>\n",
       "    <tr>\n",
       "      <th>2883</th>\n",
       "      <td>2021-10-05</td>\n",
       "      <td>48.689999</td>\n",
       "      <td>5.25</td>\n",
       "      <td>19.172966</td>\n",
       "      <td>17.969999</td>\n",
       "      <td>23.650000</td>\n",
       "      <td>59.680000</td>\n",
       "      <td>7.92</td>\n",
       "      <td>2.77</td>\n",
       "      <td>18.059999</td>\n",
       "      <td>13.64</td>\n",
       "      <td>8.61</td>\n",
       "      <td>37.049999</td>\n",
       "      <td>37.279999</td>\n",
       "      <td>17.840000</td>\n",
       "      <td>43.880001</td>\n",
       "      <td>24.440001</td>\n",
       "      <td>22.920000</td>\n",
       "      <td>21.139999</td>\n",
       "      <td>71.379997</td>\n",
       "      <td>12.83</td>\n",
       "      <td>37.570000</td>\n",
       "      <td>5.83</td>\n",
       "      <td>4.70</td>\n",
       "      <td>23.590000</td>\n",
       "      <td>13.68</td>\n",
       "      <td>17.000000</td>\n",
       "      <td>18.600000</td>\n",
       "      <td>50.349998</td>\n",
       "      <td>35.470001</td>\n",
       "      <td>24.170000</td>\n",
       "    </tr>\n",
       "    <tr>\n",
       "      <th>2884</th>\n",
       "      <td>2021-10-06</td>\n",
       "      <td>47.779999</td>\n",
       "      <td>5.26</td>\n",
       "      <td>19.120001</td>\n",
       "      <td>18.040001</td>\n",
       "      <td>23.250000</td>\n",
       "      <td>57.000000</td>\n",
       "      <td>7.96</td>\n",
       "      <td>2.78</td>\n",
       "      <td>18.180000</td>\n",
       "      <td>13.63</td>\n",
       "      <td>8.80</td>\n",
       "      <td>37.380001</td>\n",
       "      <td>36.799999</td>\n",
       "      <td>17.639999</td>\n",
       "      <td>42.910000</td>\n",
       "      <td>24.150000</td>\n",
       "      <td>23.059999</td>\n",
       "      <td>21.139999</td>\n",
       "      <td>70.500000</td>\n",
       "      <td>12.59</td>\n",
       "      <td>37.740002</td>\n",
       "      <td>5.64</td>\n",
       "      <td>4.96</td>\n",
       "      <td>23.620001</td>\n",
       "      <td>14.46</td>\n",
       "      <td>18.230000</td>\n",
       "      <td>18.530001</td>\n",
       "      <td>49.689999</td>\n",
       "      <td>35.779999</td>\n",
       "      <td>24.260000</td>\n",
       "    </tr>\n",
       "    <tr>\n",
       "      <th>2885</th>\n",
       "      <td>2021-10-07</td>\n",
       "      <td>46.830002</td>\n",
       "      <td>5.18</td>\n",
       "      <td>18.920000</td>\n",
       "      <td>17.660000</td>\n",
       "      <td>24.049999</td>\n",
       "      <td>56.639999</td>\n",
       "      <td>7.89</td>\n",
       "      <td>2.91</td>\n",
       "      <td>17.830000</td>\n",
       "      <td>13.60</td>\n",
       "      <td>8.84</td>\n",
       "      <td>37.220001</td>\n",
       "      <td>37.430000</td>\n",
       "      <td>17.820000</td>\n",
       "      <td>43.310001</td>\n",
       "      <td>24.280001</td>\n",
       "      <td>22.820000</td>\n",
       "      <td>21.139999</td>\n",
       "      <td>70.099998</td>\n",
       "      <td>12.50</td>\n",
       "      <td>36.700001</td>\n",
       "      <td>5.54</td>\n",
       "      <td>4.82</td>\n",
       "      <td>23.299999</td>\n",
       "      <td>14.03</td>\n",
       "      <td>17.639999</td>\n",
       "      <td>18.709999</td>\n",
       "      <td>49.430000</td>\n",
       "      <td>35.939999</td>\n",
       "      <td>24.030001</td>\n",
       "    </tr>\n",
       "    <tr>\n",
       "      <th>2886</th>\n",
       "      <td>2021-10-08</td>\n",
       "      <td>47.290001</td>\n",
       "      <td>5.40</td>\n",
       "      <td>18.299999</td>\n",
       "      <td>17.930000</td>\n",
       "      <td>24.709999</td>\n",
       "      <td>57.889999</td>\n",
       "      <td>8.41</td>\n",
       "      <td>3.01</td>\n",
       "      <td>18.090000</td>\n",
       "      <td>13.83</td>\n",
       "      <td>9.62</td>\n",
       "      <td>37.580002</td>\n",
       "      <td>38.439999</td>\n",
       "      <td>18.320000</td>\n",
       "      <td>44.520000</td>\n",
       "      <td>24.620001</td>\n",
       "      <td>23.940001</td>\n",
       "      <td>21.270000</td>\n",
       "      <td>72.000000</td>\n",
       "      <td>12.87</td>\n",
       "      <td>37.389999</td>\n",
       "      <td>5.88</td>\n",
       "      <td>5.00</td>\n",
       "      <td>24.500000</td>\n",
       "      <td>14.97</td>\n",
       "      <td>18.240000</td>\n",
       "      <td>19.120001</td>\n",
       "      <td>49.310001</td>\n",
       "      <td>36.580002</td>\n",
       "      <td>24.410000</td>\n",
       "    </tr>\n",
       "    <tr>\n",
       "      <th>2887</th>\n",
       "      <td>2021-10-11</td>\n",
       "      <td>47.110001</td>\n",
       "      <td>5.34</td>\n",
       "      <td>17.330000</td>\n",
       "      <td>17.600000</td>\n",
       "      <td>24.850000</td>\n",
       "      <td>56.200001</td>\n",
       "      <td>8.30</td>\n",
       "      <td>2.96</td>\n",
       "      <td>17.889999</td>\n",
       "      <td>13.84</td>\n",
       "      <td>9.58</td>\n",
       "      <td>38.020000</td>\n",
       "      <td>39.209999</td>\n",
       "      <td>18.690001</td>\n",
       "      <td>45.279999</td>\n",
       "      <td>24.450001</td>\n",
       "      <td>23.500000</td>\n",
       "      <td>21.290001</td>\n",
       "      <td>72.080002</td>\n",
       "      <td>12.92</td>\n",
       "      <td>37.790001</td>\n",
       "      <td>5.90</td>\n",
       "      <td>5.00</td>\n",
       "      <td>24.200001</td>\n",
       "      <td>14.41</td>\n",
       "      <td>18.120001</td>\n",
       "      <td>19.410000</td>\n",
       "      <td>50.599998</td>\n",
       "      <td>36.630001</td>\n",
       "      <td>24.600000</td>\n",
       "    </tr>\n",
       "  </tbody>\n",
       "</table>\n",
       "</div>"
      ],
      "text/plain": [
       "            Date   ALPA4.SA  AMAR3.SA   ASAI3.SA   BBDC3.SA   BRDT3.SA  \\\n",
       "2883  2021-10-05  48.689999      5.25  19.172966  17.969999  23.650000   \n",
       "2884  2021-10-06  47.779999      5.26  19.120001  18.040001  23.250000   \n",
       "2885  2021-10-07  46.830002      5.18  18.920000  17.660000  24.049999   \n",
       "2886  2021-10-08  47.290001      5.40  18.299999  17.930000  24.709999   \n",
       "2887  2021-10-11  47.110001      5.34  17.330000  17.600000  24.850000   \n",
       "\n",
       "       BRKM5.SA  BRML3.SA  COGN3.SA   CRFB3.SA  CSMG3.SA  ECOR3.SA   EGIE3.SA  \\\n",
       "2883  59.680000      7.92      2.77  18.059999     13.64      8.61  37.049999   \n",
       "2884  57.000000      7.96      2.78  18.180000     13.63      8.80  37.380001   \n",
       "2885  56.639999      7.89      2.91  17.830000     13.60      8.84  37.220001   \n",
       "2886  57.889999      8.41      3.01  18.090000     13.83      9.62  37.580002   \n",
       "2887  56.200001      8.30      2.96  17.889999     13.84      9.58  38.020000   \n",
       "\n",
       "       ELET6.SA   ENBR3.SA  ENGI11.SA   EQTL3.SA   EZTC3.SA   FLRY3.SA  \\\n",
       "2883  37.279999  17.840000  43.880001  24.440001  22.920000  21.139999   \n",
       "2884  36.799999  17.639999  42.910000  24.150000  23.059999  21.139999   \n",
       "2885  37.430000  17.820000  43.310001  24.280001  22.820000  21.139999   \n",
       "2886  38.439999  18.320000  44.520000  24.620001  23.940001  21.270000   \n",
       "2887  39.209999  18.690001  45.279999  24.450001  23.500000  21.290001   \n",
       "\n",
       "       GNDI3.SA  HAPV3.SA   JBSS3.SA  JHSF3.SA  LAME4.SA   LCAM3.SA  MGLU3.SA  \\\n",
       "2883  71.379997     12.83  37.570000      5.83      4.70  23.590000     13.68   \n",
       "2884  70.500000     12.59  37.740002      5.64      4.96  23.620001     14.46   \n",
       "2885  70.099998     12.50  36.700001      5.54      4.82  23.299999     14.03   \n",
       "2886  72.000000     12.87  37.389999      5.88      5.00  24.500000     14.97   \n",
       "2887  72.080002     12.92  37.790001      5.90      5.00  24.200001     14.41   \n",
       "\n",
       "       RAIL3.SA  SAPR11.SA   SUZB3.SA  TAEE11.SA   TRPL4.SA  \n",
       "2883  17.000000  18.600000  50.349998  35.470001  24.170000  \n",
       "2884  18.230000  18.530001  49.689999  35.779999  24.260000  \n",
       "2885  17.639999  18.709999  49.430000  35.939999  24.030001  \n",
       "2886  18.240000  19.120001  49.310001  36.580002  24.410000  \n",
       "2887  18.120001  19.410000  50.599998  36.630001  24.600000  "
      ]
     },
     "execution_count": 15,
     "metadata": {},
     "output_type": "execute_result"
    }
   ],
   "source": [
    "df_top30_prices.tail()"
   ]
  },
  {
   "cell_type": "code",
   "execution_count": 32,
   "id": "31b3ac19",
   "metadata": {},
   "outputs": [
    {
     "data": {
      "text/plain": [
       "'2021-03-01'"
      ]
     },
     "execution_count": 32,
     "metadata": {},
     "output_type": "execute_result"
    }
   ],
   "source": [
    "df_top30_prices.dropna()[\"Date\"].min()"
   ]
  },
  {
   "cell_type": "code",
   "execution_count": 24,
   "id": "3a84a31a",
   "metadata": {},
   "outputs": [
    {
     "data": {
      "text/plain": [
       "Date            0\n",
       "ALPA4.SA        8\n",
       "AMAR3.SA        5\n",
       "ASAI3.SA     2732\n",
       "BBDC3.SA        3\n",
       "BRDT3.SA     2005\n",
       "BRKM5.SA        5\n",
       "BRML3.SA       11\n",
       "COGN3.SA      668\n",
       "CRFB3.SA     1840\n",
       "CSMG3.SA        8\n",
       "ECOR3.SA       37\n",
       "EGIE3.SA        3\n",
       "ELET6.SA       18\n",
       "ENBR3.SA       12\n",
       "ENGI11.SA     666\n",
       "EQTL3.SA       11\n",
       "EZTC3.SA       15\n",
       "FLRY3.SA       10\n",
       "GNDI3.SA     2032\n",
       "HAPV3.SA     2035\n",
       "JBSS3.SA       13\n",
       "JHSF3.SA       15\n",
       "LAME4.SA       87\n",
       "LCAM3.SA      545\n",
       "MGLU3.SA      302\n",
       "RAIL3.SA     1276\n",
       "SAPR11.SA    1953\n",
       "SUZB3.SA     1900\n",
       "TAEE11.SA     174\n",
       "TRPL4.SA        5\n",
       "dtype: int64"
      ]
     },
     "execution_count": 24,
     "metadata": {},
     "output_type": "execute_result"
    }
   ],
   "source": [
    "df_top30_prices.isnull().sum()"
   ]
  },
  {
   "cell_type": "markdown",
   "id": "26243097",
   "metadata": {},
   "source": [
    "## Top 30 Market Cap"
   ]
  },
  {
   "cell_type": "code",
   "execution_count": 8,
   "id": "54a6aed1",
   "metadata": {},
   "outputs": [],
   "source": [
    "df_top30_mktcap = pd.read_csv(\"../data/raw/top30_stocks_mktcap_within_brax11.csv\")"
   ]
  },
  {
   "cell_type": "code",
   "execution_count": 22,
   "id": "c4aca369",
   "metadata": {},
   "outputs": [
    {
     "data": {
      "text/html": [
       "<div>\n",
       "<style scoped>\n",
       "    .dataframe tbody tr th:only-of-type {\n",
       "        vertical-align: middle;\n",
       "    }\n",
       "\n",
       "    .dataframe tbody tr th {\n",
       "        vertical-align: top;\n",
       "    }\n",
       "\n",
       "    .dataframe thead th {\n",
       "        text-align: right;\n",
       "    }\n",
       "</style>\n",
       "<table border=\"1\" class=\"dataframe\">\n",
       "  <thead>\n",
       "    <tr style=\"text-align: right;\">\n",
       "      <th></th>\n",
       "      <th>ticker</th>\n",
       "      <th>mkt_cap</th>\n",
       "    </tr>\n",
       "  </thead>\n",
       "  <tbody>\n",
       "    <tr>\n",
       "      <th>0</th>\n",
       "      <td>EGIE3.SA</td>\n",
       "      <td>30956306432</td>\n",
       "    </tr>\n",
       "    <tr>\n",
       "      <th>1</th>\n",
       "      <td>ECOR3.SA</td>\n",
       "      <td>5367824896</td>\n",
       "    </tr>\n",
       "    <tr>\n",
       "      <th>2</th>\n",
       "      <td>ENBR3.SA</td>\n",
       "      <td>10889498624</td>\n",
       "    </tr>\n",
       "    <tr>\n",
       "      <th>3</th>\n",
       "      <td>AMAR3.SA</td>\n",
       "      <td>1406853888</td>\n",
       "    </tr>\n",
       "    <tr>\n",
       "      <th>4</th>\n",
       "      <td>JHSF3.SA</td>\n",
       "      <td>4083032576</td>\n",
       "    </tr>\n",
       "  </tbody>\n",
       "</table>\n",
       "</div>"
      ],
      "text/plain": [
       "     ticker      mkt_cap\n",
       "0  EGIE3.SA  30956306432\n",
       "1  ECOR3.SA   5367824896\n",
       "2  ENBR3.SA  10889498624\n",
       "3  AMAR3.SA   1406853888\n",
       "4  JHSF3.SA   4083032576"
      ]
     },
     "execution_count": 22,
     "metadata": {},
     "output_type": "execute_result"
    }
   ],
   "source": [
    "df_top30_mktcap.head()"
   ]
  },
  {
   "cell_type": "code",
   "execution_count": 25,
   "id": "c8ac8665",
   "metadata": {},
   "outputs": [
    {
     "data": {
      "text/plain": [
       "ticker     0\n",
       "mkt_cap    0\n",
       "dtype: int64"
      ]
     },
     "execution_count": 25,
     "metadata": {},
     "output_type": "execute_result"
    }
   ],
   "source": [
    "df_top30_mktcap.isnull().sum()"
   ]
  },
  {
   "cell_type": "markdown",
   "id": "6ee0a3b7",
   "metadata": {},
   "source": [
    "## USD BRL FX"
   ]
  },
  {
   "cell_type": "code",
   "execution_count": 33,
   "id": "677849a3",
   "metadata": {},
   "outputs": [],
   "source": [
    "df_usdbrl = pd.read_csv(\"../data/raw/usdbrl_fx.csv\")"
   ]
  },
  {
   "cell_type": "code",
   "execution_count": 34,
   "id": "f3dbee5a",
   "metadata": {},
   "outputs": [
    {
     "data": {
      "text/html": [
       "<div>\n",
       "<style scoped>\n",
       "    .dataframe tbody tr th:only-of-type {\n",
       "        vertical-align: middle;\n",
       "    }\n",
       "\n",
       "    .dataframe tbody tr th {\n",
       "        vertical-align: top;\n",
       "    }\n",
       "\n",
       "    .dataframe thead th {\n",
       "        text-align: right;\n",
       "    }\n",
       "</style>\n",
       "<table border=\"1\" class=\"dataframe\">\n",
       "  <thead>\n",
       "    <tr style=\"text-align: right;\">\n",
       "      <th></th>\n",
       "      <th>Date</th>\n",
       "      <th>Adj Close</th>\n",
       "    </tr>\n",
       "  </thead>\n",
       "  <tbody>\n",
       "    <tr>\n",
       "      <th>4200</th>\n",
       "      <td>2021-10-06</td>\n",
       "      <td>5.4755</td>\n",
       "    </tr>\n",
       "    <tr>\n",
       "      <th>4201</th>\n",
       "      <td>2021-10-07</td>\n",
       "      <td>5.4919</td>\n",
       "    </tr>\n",
       "    <tr>\n",
       "      <th>4202</th>\n",
       "      <td>2021-10-08</td>\n",
       "      <td>5.5170</td>\n",
       "    </tr>\n",
       "    <tr>\n",
       "      <th>4203</th>\n",
       "      <td>2021-10-11</td>\n",
       "      <td>5.5069</td>\n",
       "    </tr>\n",
       "    <tr>\n",
       "      <th>4204</th>\n",
       "      <td>2021-10-12</td>\n",
       "      <td>5.5270</td>\n",
       "    </tr>\n",
       "  </tbody>\n",
       "</table>\n",
       "</div>"
      ],
      "text/plain": [
       "            Date  Adj Close\n",
       "4200  2021-10-06     5.4755\n",
       "4201  2021-10-07     5.4919\n",
       "4202  2021-10-08     5.5170\n",
       "4203  2021-10-11     5.5069\n",
       "4204  2021-10-12     5.5270"
      ]
     },
     "execution_count": 34,
     "metadata": {},
     "output_type": "execute_result"
    }
   ],
   "source": [
    "df_usdbrl.tail()"
   ]
  },
  {
   "cell_type": "code",
   "execution_count": 35,
   "id": "7d4f7af2",
   "metadata": {},
   "outputs": [
    {
     "data": {
      "text/plain": [
       "Date         0\n",
       "Adj Close    0\n",
       "dtype: int64"
      ]
     },
     "execution_count": 35,
     "metadata": {},
     "output_type": "execute_result"
    }
   ],
   "source": [
    "df_usdbrl.isnull().sum()"
   ]
  },
  {
   "cell_type": "code",
   "execution_count": null,
   "id": "4704718a",
   "metadata": {},
   "outputs": [],
   "source": []
  }
 ],
 "metadata": {
  "kernelspec": {
   "display_name": "masters",
   "language": "python",
   "name": "masters"
  },
  "language_info": {
   "codemirror_mode": {
    "name": "ipython",
    "version": 3
   },
   "file_extension": ".py",
   "mimetype": "text/x-python",
   "name": "python",
   "nbconvert_exporter": "python",
   "pygments_lexer": "ipython3",
   "version": "3.7.11"
  }
 },
 "nbformat": 4,
 "nbformat_minor": 5
}
